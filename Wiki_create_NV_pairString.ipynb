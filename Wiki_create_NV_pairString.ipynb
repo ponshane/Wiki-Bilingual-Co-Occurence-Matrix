{
 "cells": [
  {
   "cell_type": "code",
   "execution_count": 4,
   "metadata": {},
   "outputs": [],
   "source": [
    "import configparser\n",
    "import pymongo\n",
    "from pymongo import MongoClient\n",
    "from datetime import datetime\n",
    "import pickle\n",
    "import re\n",
    "\n",
    "import sys\n",
    "# set python syspath to point out location of our self-writing module\n",
    "sys.path.append(\"/home/ponshane/work_dir/CLTM/src/codebase/\")\n",
    "\n",
    "from helper import *"
   ]
  },
  {
   "cell_type": "code",
   "execution_count": 5,
   "metadata": {},
   "outputs": [],
   "source": [
    "### init and read config\n",
    "config = configparser.ConfigParser()\n",
    "config.read('../config.ini')\n",
    "\n",
    "MongoDB = config[\"ADM\"][\"Database\"]\n",
    "MongoUser = config[\"ADM\"][\"User\"]\n",
    "MongoPW = config[\"ADM\"][\"PW\"]\n",
    "\n",
    "###連接MONGO\n",
    "uri = \"mongodb://\" + MongoUser + \":\" + MongoPW + \"@140.117.69.70:30241/\" +\\\n",
    "MongoDB + \"?authMechanism=SCRAM-SHA-1\"\n",
    "\n",
    "client = MongoClient(uri)\n",
    "db = client.ComparableWiki"
   ]
  },
  {
   "cell_type": "code",
   "execution_count": 6,
   "metadata": {},
   "outputs": [],
   "source": [
    "### 檢查單字是否都是 英文字/數字 http://hzy3774.iteye.com/blog/2359032\n",
    "def judge_pure_english(keyword):  \n",
    "    return all(ord(c) < 128 for c in keyword)\n",
    "\n",
    "def extract_selected_pos_word(sentence):\n",
    "    # 挑取 #N, #V 詞性開頭的字\n",
    "    indices = [i for i, s in enumerate(sentence) if \"#N\" in s or \"#V\" in s]\n",
    "    select_words = [sentence[index] for index in indices]\n",
    "    \n",
    "    # 清除詞性標籤\n",
    "    words = [re.search('(.*)#', word).group(1) for word in select_words]\n",
    "    \n",
    "    # 過濾單詞\n",
    "    words = [word for word in words if len(word) >= 2]\n",
    "    \n",
    "    # 過濾英文字\n",
    "    words = [word for word in words if judge_pure_english(word) == False]\n",
    "    return(words)"
   ]
  },
  {
   "cell_type": "code",
   "execution_count": 7,
   "metadata": {},
   "outputs": [
    {
     "name": "stdout",
     "output_type": "stream",
     "text": [
      "Number of Chinese Documents: 405574\n"
     ]
    }
   ],
   "source": [
    "target_collection = db.ENZH\n",
    "num = target_collection.count({\"chi_nlp_process\": {\"$exists\": True}, \"nlp_process\": {\"$exists\": True}})\n",
    "print(\"Number of Chinese Documents: %d\" % num)"
   ]
  },
  {
   "cell_type": "code",
   "execution_count": 8,
   "metadata": {},
   "outputs": [],
   "source": [
    "def update(target_collection, doc_id, pairString):\n",
    "    target_collection.update_one({\"_id\": doc_id},\n",
    "                      {\n",
    "                          \"$set\":{\n",
    "                              \"pairString_N_V\": pairString\n",
    "                          }\n",
    "                      })"
   ]
  },
  {
   "cell_type": "markdown",
   "metadata": {},
   "source": [
    "# Select Nouns and Verbs from Chinese and English wiki corpus"
   ]
  },
  {
   "cell_type": "code",
   "execution_count": null,
   "metadata": {},
   "outputs": [],
   "source": [
    "start_time = datetime.now()\n",
    "\n",
    "query_documents = target_collection.find({\"chi_nlp_process\": {\"$exists\": True},\n",
    "                                          \"nlp_process\": {\"$exists\": True}},\n",
    "                                          no_cursor_timeout=True)\n",
    "\n",
    "index = 0\n",
    "\n",
    "for each_document in query_documents:\n",
    "    \n",
    "    # for each chinese document\n",
    "    chinese_sentences = list()\n",
    "    for each_sentence in each_document[\"chi_result\"][\"pos\"]:\n",
    "        chinese_sentences += extract_selected_pos_word(each_sentence)\n",
    "    \n",
    "    # for each english document\n",
    "    english_sentences = list()\n",
    "    for each_sentence in each_document[\"nested_token_list\"]:\n",
    "        english_sentences += project_function_for_every_document(each_sentence, want_stop=False,\n",
    "                                                                want_alpha=True, want_lemma=True,\n",
    "                                                                accept_pos = [\"NOUN\", \"VERB\"],\n",
    "                                                                use_entity=False)\n",
    "    \n",
    "    update(target_collection, each_document[\"_id\"],\n",
    "           \" \".join(chinese_sentences) + \" \" + \" \".join(english_sentences))\n",
    "    \"\"\"\n",
    "    here, I directly store back into mongo\n",
    "    because it cost a lot of memory footprint when picklize the data\n",
    "    and I can further use generator(mongo cursur) to control the memory issue.\n",
    "    \"\"\"\n",
    "    \n",
    "    index += 1\n",
    "    if(index % 2500 ==0):\n",
    "        print(\"Already process %d documents\" % index)\n",
    "        time_elapsed = datetime.now() - start_time \n",
    "        print('Time elapsed (hh:mm:ss.ms) {}'.format(time_elapsed))\n",
    "\n",
    "query_documents.close()\n",
    "# Time elapsed (hh:mm:ss.ms) 1:41:14.716752"
   ]
  },
  {
   "cell_type": "markdown",
   "metadata": {},
   "source": [
    "# Create Vocabulary dictionary and term-document matrix(presence/absence) by gensim utilities"
   ]
  },
  {
   "cell_type": "code",
   "execution_count": 11,
   "metadata": {},
   "outputs": [],
   "source": [
    "from gensim import corpora\n",
    "from gensim.matutils import corpus2csc\n",
    "\n",
    "query_documents = target_collection.find({\"chi_nlp_process\": {\"$exists\": True},\n",
    "                                          \"nlp_process\": {\"$exists\": True}},{\"pairString_N_V\":1},\n",
    "                                          no_cursor_timeout=True)\n",
    "\n",
    "compound_dictionary = corpora.Dictionary((doc[\"pairString_N_V\"].split() for doc in query_documents))\n",
    "\n",
    "query_documents.close()"
   ]
  },
  {
   "cell_type": "code",
   "execution_count": 23,
   "metadata": {},
   "outputs": [
    {
     "name": "stdout",
     "output_type": "stream",
     "text": [
      "Original size of vocabs:  2042465\n",
      "After shrinking, size of vocabs:  56949\n"
     ]
    }
   ],
   "source": [
    "print(\"Original size of vocabs: \", len(compound_dictionary.token2id))\n",
    "compound_dictionary.filter_extremes(no_below=100, no_above=0.3, keep_n=None)\n",
    "compound_dictionary.compactify()\n",
    "print(\"After shrinking, size of vocabs: \", len(compound_dictionary.token2id))"
   ]
  },
  {
   "cell_type": "code",
   "execution_count": 24,
   "metadata": {},
   "outputs": [
    {
     "name": "stdout",
     "output_type": "stream",
     "text": [
      "CPU times: user 2min 55s, sys: 5.06 s, total: 3min\n",
      "Wall time: 6min 1s\n"
     ]
    }
   ],
   "source": [
    "%%time\n",
    "query_documents = target_collection.find({\"chi_nlp_process\": {\"$exists\": True},\n",
    "                                          \"nlp_process\": {\"$exists\": True}},{\"pairString_N_V\":1},\n",
    "                                          no_cursor_timeout=True)\n",
    "\n",
    "compund_corpus = [compound_dictionary.doc2bow(doc[\"pairString_N_V\"].split()) for doc in query_documents]\n",
    "\n",
    "query_documents.close()"
   ]
  },
  {
   "cell_type": "code",
   "execution_count": 25,
   "metadata": {},
   "outputs": [
    {
     "name": "stdout",
     "output_type": "stream",
     "text": [
      "CPU times: user 13.5 s, sys: 696 ms, total: 14.2 s\n",
      "Wall time: 14.2 s\n"
     ]
    }
   ],
   "source": [
    "%%time\n",
    "term_document_matrix = corpus2csc(compund_corpus)"
   ]
  },
  {
   "cell_type": "code",
   "execution_count": null,
   "metadata": {},
   "outputs": [],
   "source": [
    "%%time\n",
    "term_document_matrix[term_document_matrix >= 1] = 1\n",
    "print(type(term_document_matrix), term_document_matrix.shape)\n",
    "#cooccurence_matrix = term_document_matrix @ term_document_matrix.T\n",
    "#print(term_document_matrix.shape, cooccurence_matrix.shape)"
   ]
  },
  {
   "cell_type": "code",
   "execution_count": 41,
   "metadata": {},
   "outputs": [
    {
     "data": {
      "text/plain": [
       "2705.0"
      ]
     },
     "execution_count": 41,
     "metadata": {},
     "output_type": "execute_result"
    }
   ],
   "source": [
    "(term_document_matrix[1,:] @ term_document_matrix[2,:].T).toarray()[0,0]"
   ]
  },
  {
   "cell_type": "code",
   "execution_count": 42,
   "metadata": {},
   "outputs": [],
   "source": [
    "with open('wiki_en_zh_NounVerb_tdm.pickle', 'wb') as f:\n",
    "    # Pickle the 'data' dictionary using the highest protocol available.\n",
    "    pickle.dump((compound_dictionary, term_document_matrix), f, pickle.HIGHEST_PROTOCOL)"
   ]
  }
 ],
 "metadata": {
  "kernelspec": {
   "display_name": "cross-lingual",
   "language": "python",
   "name": "cross-lingual"
  },
  "language_info": {
   "codemirror_mode": {
    "name": "ipython",
    "version": 3
   },
   "file_extension": ".py",
   "mimetype": "text/x-python",
   "name": "python",
   "nbconvert_exporter": "python",
   "pygments_lexer": "ipython3",
   "version": "3.6.4"
  }
 },
 "nbformat": 4,
 "nbformat_minor": 4
}
