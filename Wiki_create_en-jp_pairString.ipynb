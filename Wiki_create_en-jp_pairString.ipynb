{
 "cells": [
  {
   "cell_type": "code",
   "execution_count": 1,
   "metadata": {},
   "outputs": [],
   "source": [
    "import configparser\n",
    "import pymongo\n",
    "from pymongo import MongoClient\n",
    "from datetime import datetime\n",
    "import pickle\n",
    "import re\n",
    "\n",
    "import sys\n",
    "# set python syspath to point out location of our self-writing module\n",
    "sys.path.append(\"/home/ponshane/work_dir/CLTM/src/codebase/\")\n",
    "\n",
    "from helper import *"
   ]
  },
  {
   "cell_type": "code",
   "execution_count": 3,
   "metadata": {},
   "outputs": [],
   "source": [
    "### init and read config\n",
    "config = configparser.ConfigParser()\n",
    "config.read('./config.ini')\n",
    "\n",
    "MongoDB = config[\"ADM\"][\"Database\"]\n",
    "MongoUser = config[\"ADM\"][\"User\"]\n",
    "MongoPW = config[\"ADM\"][\"PW\"]\n",
    "\n",
    "###連接MONGO\n",
    "uri = \"mongodb://\" + MongoUser + \":\" + MongoPW + \"@140.117.69.70:30241/\" +\\\n",
    "MongoDB + \"?authMechanism=SCRAM-SHA-1\"\n",
    "\n",
    "client = MongoClient(uri)\n",
    "db = client.ComparableWiki\n",
    "\n",
    "def update(target_collection, doc_id, pairString):\n",
    "    target_collection.update_one({\"_id\": doc_id},\n",
    "                      {\n",
    "                          \"$set\":{\n",
    "                              \"pairString_N_V\": pairString\n",
    "                          }\n",
    "                      })\n",
    "\n",
    "def judge_pure_english(keyword):  \n",
    "    return all(ord(c) < 128 for c in keyword)\n",
    "\n",
    "def extract_selected_pos_word_from_jap(doc):\n",
    "    # 挑取 #N, #V 詞性開頭的字\n",
    "    indices = [i for i, s in enumerate(doc) if \"#名詞\" in s or \"#動詞\" in s]\n",
    "    select_words = [doc[index] for index in indices]\n",
    "    \n",
    "    # 清除詞性標籤\n",
    "    words = [re.search('(.*)#', word).group(1) for word in select_words]\n",
    "    \n",
    "    # 過濾單詞\n",
    "    words = [word for word in words if len(word) >= 2]\n",
    "    \n",
    "    # 過濾英文字\n",
    "    words = [word for word in words if judge_pure_english(word) == False]\n",
    "    return(words)"
   ]
  },
  {
   "cell_type": "code",
   "execution_count": 6,
   "metadata": {},
   "outputs": [],
   "source": [
    "# takes time\n",
    "target_collection = db.ENJA\n",
    "# num = target_collection.count_documents({\"jap_nlp_process\": {\"$exists\": True}, \"nlp_process\": {\"$exists\": True}})\n",
    "# print(\"Number of Documents: %d\" % num)"
   ]
  },
  {
   "cell_type": "code",
   "execution_count": null,
   "metadata": {
    "scrolled": true
   },
   "outputs": [],
   "source": [
    "start_time = datetime.now()\n",
    "\n",
    "query_documents = target_collection.find({\"jap_nlp_process\": {\"$exists\": True},\n",
    "                                          \"nlp_process\": {\"$exists\": True}},\n",
    "                                          no_cursor_timeout=True)\n",
    "\n",
    "index = 0\n",
    "\n",
    "for each_document in query_documents:\n",
    "    \n",
    "    # for each japanese document\n",
    "    # there is no sentence level for japanese documents\n",
    "    japanese_sentences = extract_selected_pos_word_from_jap(each_document[\"jap_result\"][\"pos\"])\n",
    "    \n",
    "    # for each english document\n",
    "    english_sentences = list()\n",
    "    for each_sentence in each_document[\"nested_token_list\"]:\n",
    "        english_sentences += project_function_for_every_document(each_sentence, want_stop=False,\n",
    "                                                                want_alpha=True, want_lemma=True,\n",
    "                                                                accept_pos = [\"NOUN\", \"VERB\"],\n",
    "                                                                use_entity=False)\n",
    "    \n",
    "    update(target_collection, each_document[\"_id\"],\n",
    "           \" \".join(japanese_sentences) + \" \" + \" \".join(english_sentences))\n",
    "    \"\"\"\n",
    "    here, I directly store back into mongo\n",
    "    because it cost a lot of memory footprint when picklize the data\n",
    "    and I can further use generator(mongo cursur) to control the memory issue.\n",
    "    \"\"\"\n",
    "    \n",
    "    index += 1\n",
    "    if(index % 2500 ==0):\n",
    "        print(\"Already process %d documents\" % index)\n",
    "        time_elapsed = datetime.now() - start_time \n",
    "        print('Time elapsed (hh:mm:ss.ms) {}'.format(time_elapsed))\n",
    "\n",
    "query_documents.close()\n",
    "# Already process 392500 documents\n",
    "# Time elapsed (hh:mm:ss.ms) 0:57:17.214408"
   ]
  },
  {
   "cell_type": "markdown",
   "metadata": {},
   "source": [
    "# Create Vocabulary dictionary and term-document matrix(presence/absence) by gensim utilities"
   ]
  },
  {
   "cell_type": "code",
   "execution_count": 8,
   "metadata": {},
   "outputs": [],
   "source": [
    "from gensim import corpora\n",
    "from gensim.matutils import corpus2csc\n",
    "\n",
    "query_documents = target_collection.find({\"jap_nlp_process\": {\"$exists\": True},\n",
    "                                          \"nlp_process\": {\"$exists\": True}},{\"pairString_N_V\":1},\n",
    "                                          no_cursor_timeout=True)\n",
    "\n",
    "compound_dictionary = corpora.Dictionary((doc[\"pairString_N_V\"].split() for doc in query_documents))\n",
    "\n",
    "query_documents.close()"
   ]
  },
  {
   "cell_type": "code",
   "execution_count": 9,
   "metadata": {},
   "outputs": [
    {
     "name": "stdout",
     "output_type": "stream",
     "text": [
      "Original size of vocabs:  2047073\n",
      "After shrinking, size of vocabs:  78765\n"
     ]
    }
   ],
   "source": [
    "print(\"Original size of vocabs: \", len(compound_dictionary.token2id))\n",
    "compound_dictionary.filter_extremes(no_below=100, no_above=0.3, keep_n=None)\n",
    "compound_dictionary.compactify()\n",
    "print(\"After shrinking, size of vocabs: \", len(compound_dictionary.token2id))"
   ]
  },
  {
   "cell_type": "code",
   "execution_count": 10,
   "metadata": {},
   "outputs": [
    {
     "name": "stdout",
     "output_type": "stream",
     "text": [
      "CPU times: user 2min 13s, sys: 4.39 s, total: 2min 17s\n",
      "Wall time: 10min 4s\n"
     ]
    }
   ],
   "source": [
    "%%time\n",
    "query_documents = target_collection.find({\"jap_nlp_process\": {\"$exists\": True},\n",
    "                                          \"nlp_process\": {\"$exists\": True}},{\"pairString_N_V\":1},\n",
    "                                          no_cursor_timeout=True)\n",
    "\n",
    "compund_corpus = [compound_dictionary.doc2bow(doc[\"pairString_N_V\"].split()) for doc in query_documents]\n",
    "\n",
    "query_documents.close()"
   ]
  },
  {
   "cell_type": "code",
   "execution_count": 11,
   "metadata": {},
   "outputs": [
    {
     "name": "stdout",
     "output_type": "stream",
     "text": [
      "CPU times: user 18.1 s, sys: 737 ms, total: 18.8 s\n",
      "Wall time: 18.8 s\n"
     ]
    }
   ],
   "source": [
    "%%time\n",
    "term_document_matrix = corpus2csc(compund_corpus)"
   ]
  },
  {
   "cell_type": "code",
   "execution_count": 12,
   "metadata": {},
   "outputs": [
    {
     "name": "stdout",
     "output_type": "stream",
     "text": [
      "<class 'scipy.sparse.csc.csc_matrix'> (78765, 393617)\n",
      "CPU times: user 23.8 s, sys: 1.28 s, total: 25.1 s\n",
      "Wall time: 23.4 s\n"
     ]
    }
   ],
   "source": [
    "%%time\n",
    "term_document_matrix[term_document_matrix >= 1] = 1\n",
    "print(type(term_document_matrix), term_document_matrix.shape)\n",
    "#cooccurence_matrix = term_document_matrix @ term_document_matrix.T\n",
    "#print(term_document_matrix.shape, cooccurence_matrix.shape)"
   ]
  },
  {
   "cell_type": "code",
   "execution_count": 36,
   "metadata": {},
   "outputs": [
    {
     "data": {
      "text/plain": [
       "5759"
      ]
     },
     "execution_count": 36,
     "metadata": {},
     "output_type": "execute_result"
    }
   ],
   "source": [
    "compound_dictionary.token2id[\"compute\"]\n",
    "# investment 15652 投資 1660 => 1327\n",
    "# government 2077 政府 6499 => 11586\n",
    "# rate 3233 割合 4987 => 1223\n",
    "# peacemaker 52758 政治家 3312\n",
    "# terrorism 30739 軍事 3359 => 325\n",
    "# compute 5759 計算 3353 => 874\n",
    "# negative: dog 909"
   ]
  },
  {
   "cell_type": "code",
   "execution_count": 40,
   "metadata": {},
   "outputs": [
    {
     "data": {
      "text/plain": [
       "52.0"
      ]
     },
     "execution_count": 40,
     "metadata": {},
     "output_type": "execute_result"
    }
   ],
   "source": [
    "(term_document_matrix[5759,:] @ term_document_matrix[1660,:].T).toarray()[0,0]"
   ]
  },
  {
   "cell_type": "code",
   "execution_count": 2,
   "metadata": {},
   "outputs": [],
   "source": [
    "with open('wiki_en_jp_NounVerb_tdm.pickle', 'rb') as f:\n",
    "    compound_dictionary, term_document_matrix = pickle.load(f)"
   ]
  },
  {
   "cell_type": "code",
   "execution_count": 14,
   "metadata": {},
   "outputs": [],
   "source": [
    "with open('wiki_en_jp_NounVerb_tdm.pickle', 'wb') as f:\n",
    "    # Pickle the 'data' dictionary using the highest protocol available.\n",
    "    pickle.dump((compound_dictionary, term_document_matrix), f, pickle.HIGHEST_PROTOCOL)"
   ]
  }
 ],
 "metadata": {
  "kernelspec": {
   "display_name": "cross-lingual",
   "language": "python",
   "name": "cross-lingual"
  },
  "language_info": {
   "codemirror_mode": {
    "name": "ipython",
    "version": 3
   },
   "file_extension": ".py",
   "mimetype": "text/x-python",
   "name": "python",
   "nbconvert_exporter": "python",
   "pygments_lexer": "ipython3",
   "version": "3.6.4"
  }
 },
 "nbformat": 4,
 "nbformat_minor": 4
}
