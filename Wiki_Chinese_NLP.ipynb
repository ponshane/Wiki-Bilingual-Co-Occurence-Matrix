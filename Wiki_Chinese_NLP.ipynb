{
 "cells": [
  {
   "cell_type": "code",
   "execution_count": 1,
   "metadata": {},
   "outputs": [
    {
     "name": "stdout",
     "output_type": "stream",
     "text": [
      "Can't not use customized dictionary\n"
     ]
    }
   ],
   "source": [
    "import sys\n",
    "# set python syspath to point out location of our self-writing module\n",
    "sys.path.append(\"/home/ponshane/work_dir/CLTM/src/codebase/\")\n",
    "\n",
    "import configparser\n",
    "from datetime import datetime\n",
    "from pymongo import MongoClient\n",
    "from Sentence_Segmentation import Sentence_Segmentation\n",
    "from Chinese_Tokenizer import Tokenizer\n",
    "from Chinese_POSTagger import POSTagger\n",
    "import re"
   ]
  },
  {
   "cell_type": "code",
   "execution_count": 2,
   "metadata": {},
   "outputs": [],
   "source": [
    "### init and read config\n",
    "config = configparser.ConfigParser()\n",
    "config.read('../config.ini')\n",
    "\n",
    "MongoDB = config[\"ADM\"][\"Database\"]\n",
    "MongoUser = config[\"ADM\"][\"User\"]\n",
    "MongoPW = config[\"ADM\"][\"PW\"]\n",
    "\n",
    "###連接MONGO\n",
    "uri = \"mongodb://\" + MongoUser + \":\" + MongoPW + \"@140.117.69.70:30241/\" +\\\n",
    "MongoDB + \"?authMechanism=SCRAM-SHA-1\"\n",
    "\n",
    "client = MongoClient(uri)\n",
    "db = client.ComparableWiki"
   ]
  },
  {
   "cell_type": "code",
   "execution_count": null,
   "metadata": {},
   "outputs": [],
   "source": [
    "###\n",
    "### test area\n",
    "###\n",
    "\n",
    "one_document = db.ENZH.find_one()\n",
    "#print(one_document)\n",
    "\n",
    "chi_results = Sentence_Segmentation(one_document[\"ZH-Content\"], keep_digits=False)\n",
    "print(chi_results)\n",
    "\n",
    "chi_tokens = Tokenizer(chi_results)\n",
    "print(chi_tokens)\n",
    "\n",
    "chi_pos = POSTagger(chi_tokens)\n",
    "print(chi_pos)"
   ]
  },
  {
   "cell_type": "code",
   "execution_count": 4,
   "metadata": {},
   "outputs": [],
   "source": [
    "# 適用於中文 NLP Process 的 Update，因為中英文產出欄位不同\n",
    "def update(target_collection, doc_id, sentences, tokens, pos):\n",
    "    Result = {\"sentences\":sentences, \"tokens\": tokens, \"pos\": pos}\n",
    "    target_collection.update_one({\"_id\": doc_id},\n",
    "                      {\n",
    "                          \"$set\":{\n",
    "                              \"chi_result\": Result,\n",
    "                              \"chi_nlp_process\": True\n",
    "                          }\n",
    "                      })"
   ]
  },
  {
   "cell_type": "code",
   "execution_count": 5,
   "metadata": {},
   "outputs": [
    {
     "name": "stdout",
     "output_type": "stream",
     "text": [
      "389389 documents need to be processed.\n"
     ]
    }
   ],
   "source": [
    "target_collection = db.ENZH\n",
    "num = target_collection.count({\"chi_nlp_process\": {\"$exists\": False}})\n",
    "print(\"{0} documents need to be processed.\".format(num))"
   ]
  },
  {
   "cell_type": "code",
   "execution_count": null,
   "metadata": {},
   "outputs": [],
   "source": [
    "docs = target_collection.find({\"chi_nlp_process\":{\"$exists\": False}},{\"_id\":1, \"ZH-Content\":1}, no_cursor_timeout=True)\n",
    "\n",
    "# improve version\n",
    "start_time = datetime.now()\n",
    "\n",
    "error_list = list()\n",
    "index = 0\n",
    "\n",
    "for each_document in docs:\n",
    "    sentences = Sentence_Segmentation(each_document[\"ZH-Content\"], keep_digits=False)\n",
    "    tokens = Tokenizer(sentences)\n",
    "    pos = POSTagger(tokens)\n",
    "    \n",
    "    try:\n",
    "        update(target_collection, each_document[\"_id\"], sentences, tokens, pos)\n",
    "    except:\n",
    "        error_list.append(each_document[\"_id\"])\n",
    "    \n",
    "    index += 1\n",
    "    if(index % 2500 ==0):\n",
    "        print(\"Already process %d documents\" % index)\n",
    "        time_elapsed = datetime.now() - start_time\n",
    "        print('Time elapsed (hh:mm:ss.ms) {}'.format(time_elapsed))\n",
    "\n",
    "print(\"{0} documents got some problems\".format(len(error_list)))\n",
    "print(error_list)\n",
    "\n",
    "docs.close()\n",
    "# Time elapsed (hh:mm:ss.ms) 6:14:58.814529"
   ]
  }
 ],
 "metadata": {
  "kernelspec": {
   "display_name": "Python [conda env:cross-lingual]",
   "language": "python",
   "name": "conda-env-cross-lingual-py"
  },
  "language_info": {
   "codemirror_mode": {
    "name": "ipython",
    "version": 3
   },
   "file_extension": ".py",
   "mimetype": "text/x-python",
   "name": "python",
   "nbconvert_exporter": "python",
   "pygments_lexer": "ipython3",
   "version": "3.6.4"
  }
 },
 "nbformat": 4,
 "nbformat_minor": 2
}
